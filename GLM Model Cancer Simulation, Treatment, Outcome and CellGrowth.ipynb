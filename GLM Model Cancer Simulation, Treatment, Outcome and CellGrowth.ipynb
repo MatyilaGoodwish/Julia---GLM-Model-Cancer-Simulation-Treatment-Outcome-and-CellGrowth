{
 "cells": [
  {
   "cell_type": "code",
   "execution_count": 34,
   "id": "3684093f",
   "metadata": {},
   "outputs": [
    {
     "data": {
      "text/plain": [
       "MersenneTwister(2343)"
      ]
     },
     "execution_count": 34,
     "metadata": {},
     "output_type": "execute_result"
    }
   ],
   "source": [
    "using Distributions, Random, GLM, StatsBase, DataFrames, HypothesisTests;\n",
    "Random.seed!(2343)"
   ]
  },
  {
   "cell_type": "code",
   "execution_count": 25,
   "id": "ef3cabc7",
   "metadata": {},
   "outputs": [
    {
     "data": {
      "text/plain": [
       "(30,)"
      ]
     },
     "execution_count": 25,
     "metadata": {},
     "output_type": "execute_result"
    }
   ],
   "source": [
    "#treatments(1 = medication, 2 = chemotherapy, 3 = herbal remedies)\n",
    "treatment = rand(1:3, 30)\n",
    "size(treatment)"
   ]
  },
  {
   "cell_type": "code",
   "execution_count": 26,
   "id": "f27e2f8a",
   "metadata": {},
   "outputs": [
    {
     "data": {
      "text/plain": [
       "(30,)"
      ]
     },
     "execution_count": 26,
     "metadata": {},
     "output_type": "execute_result"
    }
   ],
   "source": [
    "#outcome after treatment 6 weeks trial phase (1 = worse, 2 = recovered, 3 = deceased)\n",
    "outcome = rand(1:3, 30)\n",
    "size(outcome)"
   ]
  },
  {
   "cell_type": "code",
   "execution_count": 27,
   "id": "8a8b15a7",
   "metadata": {},
   "outputs": [
    {
     "data": {
      "text/plain": [
       "(30,)"
      ]
     },
     "execution_count": 27,
     "metadata": {},
     "output_type": "execute_result"
    }
   ],
   "source": [
    "#cell size of the cancer \n",
    "cellsize = rand(Normal(), 30) * 100\n",
    "size(cellsize)"
   ]
  },
  {
   "cell_type": "code",
   "execution_count": 28,
   "id": "ff0605c9",
   "metadata": {},
   "outputs": [
    {
     "data": {
      "text/html": [
       "<div class=\"data-frame\"><p>3 rows × 7 columns</p><table class=\"data-frame\"><thead><tr><th></th><th>variable</th><th>mean</th><th>min</th><th>median</th><th>max</th><th>nmissing</th><th>eltype</th></tr><tr><th></th><th title=\"Symbol\">Symbol</th><th title=\"Float64\">Float64</th><th title=\"Real\">Real</th><th title=\"Float64\">Float64</th><th title=\"Real\">Real</th><th title=\"Int64\">Int64</th><th title=\"DataType\">DataType</th></tr></thead><tbody><tr><th>1</th><td>Treatment</td><td>1.76667</td><td>1</td><td>2.0</td><td>3</td><td>0</td><td>Int64</td></tr><tr><th>2</th><td>Outcome</td><td>1.86667</td><td>1</td><td>2.0</td><td>3</td><td>0</td><td>Int64</td></tr><tr><th>3</th><td>GrowthRate</td><td>20.6999</td><td>-139.232</td><td>13.362</td><td>200.953</td><td>0</td><td>Float64</td></tr></tbody></table></div>"
      ],
      "text/latex": [
       "\\begin{tabular}{r|ccccccc}\n",
       "\t& variable & mean & min & median & max & nmissing & eltype\\\\\n",
       "\t\\hline\n",
       "\t& Symbol & Float64 & Real & Float64 & Real & Int64 & DataType\\\\\n",
       "\t\\hline\n",
       "\t1 & Treatment & 1.76667 & 1 & 2.0 & 3 & 0 & Int64 \\\\\n",
       "\t2 & Outcome & 1.86667 & 1 & 2.0 & 3 & 0 & Int64 \\\\\n",
       "\t3 & GrowthRate & 20.6999 & -139.232 & 13.362 & 200.953 & 0 & Float64 \\\\\n",
       "\\end{tabular}\n"
      ],
      "text/plain": [
       "\u001b[1m3×7 DataFrame\u001b[0m\n",
       "\u001b[1m Row \u001b[0m│\u001b[1m variable   \u001b[0m\u001b[1m mean     \u001b[0m\u001b[1m min      \u001b[0m\u001b[1m median  \u001b[0m\u001b[1m max     \u001b[0m\u001b[1m nmissing \u001b[0m\u001b[1m eltype   \u001b[0m\n",
       "\u001b[1m     \u001b[0m│\u001b[90m Symbol     \u001b[0m\u001b[90m Float64  \u001b[0m\u001b[90m Real     \u001b[0m\u001b[90m Float64 \u001b[0m\u001b[90m Real    \u001b[0m\u001b[90m Int64    \u001b[0m\u001b[90m DataType \u001b[0m\n",
       "─────┼──────────────────────────────────────────────────────────────────────\n",
       "   1 │ Treatment    1.76667     1        2.0      3             0  Int64\n",
       "   2 │ Outcome      1.86667     1        2.0      3             0  Int64\n",
       "   3 │ GrowthRate  20.6999   -139.232   13.362  200.953         0  Float64"
      ]
     },
     "execution_count": 28,
     "metadata": {},
     "output_type": "execute_result"
    }
   ],
   "source": [
    "data = DataFrame(Treatment = treatment, Outcome = outcome, GrowthRate = cellsize)\n",
    "describe(data)"
   ]
  },
  {
   "cell_type": "code",
   "execution_count": 29,
   "id": "caa045ee",
   "metadata": {},
   "outputs": [
    {
     "data": {
      "text/html": [
       "<div class=\"data-frame\"><p>15 rows × 3 columns</p><table class=\"data-frame\"><thead><tr><th></th><th>Treatment</th><th>Outcome</th><th>GrowthRate</th></tr><tr><th></th><th title=\"Int64\">Int64</th><th title=\"Int64\">Int64</th><th title=\"Float64\">Float64</th></tr></thead><tbody><tr><th>1</th><td>2</td><td>1</td><td>-69.0988</td></tr><tr><th>2</th><td>1</td><td>2</td><td>-58.3271</td></tr><tr><th>3</th><td>1</td><td>3</td><td>119.378</td></tr><tr><th>4</th><td>2</td><td>2</td><td>134.45</td></tr><tr><th>5</th><td>1</td><td>1</td><td>-80.7284</td></tr><tr><th>6</th><td>1</td><td>2</td><td>24.0926</td></tr><tr><th>7</th><td>1</td><td>2</td><td>52.9137</td></tr><tr><th>8</th><td>1</td><td>2</td><td>81.2065</td></tr><tr><th>9</th><td>3</td><td>2</td><td>-95.7767</td></tr><tr><th>10</th><td>1</td><td>1</td><td>3.15336</td></tr><tr><th>11</th><td>2</td><td>3</td><td>128.866</td></tr><tr><th>12</th><td>1</td><td>2</td><td>-1.3789</td></tr><tr><th>13</th><td>2</td><td>2</td><td>17.2042</td></tr><tr><th>14</th><td>1</td><td>2</td><td>94.2459</td></tr><tr><th>15</th><td>2</td><td>2</td><td>200.953</td></tr></tbody></table></div>"
      ],
      "text/latex": [
       "\\begin{tabular}{r|ccc}\n",
       "\t& Treatment & Outcome & GrowthRate\\\\\n",
       "\t\\hline\n",
       "\t& Int64 & Int64 & Float64\\\\\n",
       "\t\\hline\n",
       "\t1 & 2 & 1 & -69.0988 \\\\\n",
       "\t2 & 1 & 2 & -58.3271 \\\\\n",
       "\t3 & 1 & 3 & 119.378 \\\\\n",
       "\t4 & 2 & 2 & 134.45 \\\\\n",
       "\t5 & 1 & 1 & -80.7284 \\\\\n",
       "\t6 & 1 & 2 & 24.0926 \\\\\n",
       "\t7 & 1 & 2 & 52.9137 \\\\\n",
       "\t8 & 1 & 2 & 81.2065 \\\\\n",
       "\t9 & 3 & 2 & -95.7767 \\\\\n",
       "\t10 & 1 & 1 & 3.15336 \\\\\n",
       "\t11 & 2 & 3 & 128.866 \\\\\n",
       "\t12 & 1 & 2 & -1.3789 \\\\\n",
       "\t13 & 2 & 2 & 17.2042 \\\\\n",
       "\t14 & 1 & 2 & 94.2459 \\\\\n",
       "\t15 & 2 & 2 & 200.953 \\\\\n",
       "\\end{tabular}\n"
      ],
      "text/plain": [
       "\u001b[1m15×3 DataFrame\u001b[0m\n",
       "\u001b[1m Row \u001b[0m│\u001b[1m Treatment \u001b[0m\u001b[1m Outcome \u001b[0m\u001b[1m GrowthRate \u001b[0m\n",
       "\u001b[1m     \u001b[0m│\u001b[90m Int64     \u001b[0m\u001b[90m Int64   \u001b[0m\u001b[90m Float64    \u001b[0m\n",
       "─────┼────────────────────────────────\n",
       "   1 │         2        1   -69.0988\n",
       "   2 │         1        2   -58.3271\n",
       "   3 │         1        3   119.378\n",
       "   4 │         2        2   134.45\n",
       "   5 │         1        1   -80.7284\n",
       "   6 │         1        2    24.0926\n",
       "   7 │         1        2    52.9137\n",
       "   8 │         1        2    81.2065\n",
       "   9 │         3        2   -95.7767\n",
       "  10 │         1        1     3.15336\n",
       "  11 │         2        3   128.866\n",
       "  12 │         1        2    -1.3789\n",
       "  13 │         2        2    17.2042\n",
       "  14 │         1        2    94.2459\n",
       "  15 │         2        2   200.953"
      ]
     },
     "execution_count": 29,
     "metadata": {},
     "output_type": "execute_result"
    }
   ],
   "source": [
    "testing_set = data[16:end, :]"
   ]
  },
  {
   "cell_type": "code",
   "execution_count": 30,
   "id": "28d4765f",
   "metadata": {},
   "outputs": [
    {
     "data": {
      "text/html": [
       "<div class=\"data-frame\"><p>15 rows × 3 columns</p><table class=\"data-frame\"><thead><tr><th></th><th>Treatment</th><th>Outcome</th><th>GrowthRate</th></tr><tr><th></th><th title=\"Int64\">Int64</th><th title=\"Int64\">Int64</th><th title=\"Float64\">Float64</th></tr></thead><tbody><tr><th>1</th><td>3</td><td>1</td><td>9.51982</td></tr><tr><th>2</th><td>1</td><td>2</td><td>-139.232</td></tr><tr><th>3</th><td>1</td><td>1</td><td>-32.8355</td></tr><tr><th>4</th><td>1</td><td>2</td><td>-48.8165</td></tr><tr><th>5</th><td>3</td><td>2</td><td>23.6783</td></tr><tr><th>6</th><td>3</td><td>2</td><td>46.2846</td></tr><tr><th>7</th><td>3</td><td>1</td><td>-2.44624</td></tr><tr><th>8</th><td>3</td><td>2</td><td>-91.3068</td></tr><tr><th>9</th><td>2</td><td>3</td><td>3.70816</td></tr><tr><th>10</th><td>1</td><td>1</td><td>-23.4349</td></tr><tr><th>11</th><td>1</td><td>2</td><td>83.6903</td></tr><tr><th>12</th><td>3</td><td>3</td><td>66.194</td></tr><tr><th>13</th><td>2</td><td>1</td><td>-107.713</td></tr><tr><th>14</th><td>2</td><td>3</td><td>108.398</td></tr><tr><th>15</th><td>2</td><td>1</td><td>174.156</td></tr></tbody></table></div>"
      ],
      "text/latex": [
       "\\begin{tabular}{r|ccc}\n",
       "\t& Treatment & Outcome & GrowthRate\\\\\n",
       "\t\\hline\n",
       "\t& Int64 & Int64 & Float64\\\\\n",
       "\t\\hline\n",
       "\t1 & 3 & 1 & 9.51982 \\\\\n",
       "\t2 & 1 & 2 & -139.232 \\\\\n",
       "\t3 & 1 & 1 & -32.8355 \\\\\n",
       "\t4 & 1 & 2 & -48.8165 \\\\\n",
       "\t5 & 3 & 2 & 23.6783 \\\\\n",
       "\t6 & 3 & 2 & 46.2846 \\\\\n",
       "\t7 & 3 & 1 & -2.44624 \\\\\n",
       "\t8 & 3 & 2 & -91.3068 \\\\\n",
       "\t9 & 2 & 3 & 3.70816 \\\\\n",
       "\t10 & 1 & 1 & -23.4349 \\\\\n",
       "\t11 & 1 & 2 & 83.6903 \\\\\n",
       "\t12 & 3 & 3 & 66.194 \\\\\n",
       "\t13 & 2 & 1 & -107.713 \\\\\n",
       "\t14 & 2 & 3 & 108.398 \\\\\n",
       "\t15 & 2 & 1 & 174.156 \\\\\n",
       "\\end{tabular}\n"
      ],
      "text/plain": [
       "\u001b[1m15×3 DataFrame\u001b[0m\n",
       "\u001b[1m Row \u001b[0m│\u001b[1m Treatment \u001b[0m\u001b[1m Outcome \u001b[0m\u001b[1m GrowthRate \u001b[0m\n",
       "\u001b[1m     \u001b[0m│\u001b[90m Int64     \u001b[0m\u001b[90m Int64   \u001b[0m\u001b[90m Float64    \u001b[0m\n",
       "─────┼────────────────────────────────\n",
       "   1 │         3        1     9.51982\n",
       "   2 │         1        2  -139.232\n",
       "   3 │         1        1   -32.8355\n",
       "   4 │         1        2   -48.8165\n",
       "   5 │         3        2    23.6783\n",
       "   6 │         3        2    46.2846\n",
       "   7 │         3        1    -2.44624\n",
       "   8 │         3        2   -91.3068\n",
       "   9 │         2        3     3.70816\n",
       "  10 │         1        1   -23.4349\n",
       "  11 │         1        2    83.6903\n",
       "  12 │         3        3    66.194\n",
       "  13 │         2        1  -107.713\n",
       "  14 │         2        3   108.398\n",
       "  15 │         2        1   174.156"
      ]
     },
     "execution_count": 30,
     "metadata": {},
     "output_type": "execute_result"
    }
   ],
   "source": [
    "training_data = data[1:15, :]"
   ]
  },
  {
   "cell_type": "code",
   "execution_count": 31,
   "id": "9307cbfc",
   "metadata": {},
   "outputs": [
    {
     "data": {
      "text/html": [
       "<div class=\"data-frame\"><p>30 rows × 3 columns</p><table class=\"data-frame\"><thead><tr><th></th><th>Treatment</th><th>Outcome</th><th>GrowthRate</th></tr><tr><th></th><th title=\"Int64\">Int64</th><th title=\"Int64\">Int64</th><th title=\"Float64\">Float64</th></tr></thead><tbody><tr><th>1</th><td>3</td><td>1</td><td>9.51982</td></tr><tr><th>2</th><td>1</td><td>2</td><td>-139.232</td></tr><tr><th>3</th><td>1</td><td>1</td><td>-32.8355</td></tr><tr><th>4</th><td>1</td><td>2</td><td>-48.8165</td></tr><tr><th>5</th><td>3</td><td>2</td><td>23.6783</td></tr><tr><th>6</th><td>3</td><td>2</td><td>46.2846</td></tr><tr><th>7</th><td>3</td><td>1</td><td>-2.44624</td></tr><tr><th>8</th><td>3</td><td>2</td><td>-91.3068</td></tr><tr><th>9</th><td>2</td><td>3</td><td>3.70816</td></tr><tr><th>10</th><td>1</td><td>1</td><td>-23.4349</td></tr><tr><th>11</th><td>1</td><td>2</td><td>83.6903</td></tr><tr><th>12</th><td>3</td><td>3</td><td>66.194</td></tr><tr><th>13</th><td>2</td><td>1</td><td>-107.713</td></tr><tr><th>14</th><td>2</td><td>3</td><td>108.398</td></tr><tr><th>15</th><td>2</td><td>1</td><td>174.156</td></tr><tr><th>16</th><td>2</td><td>1</td><td>-69.0988</td></tr><tr><th>17</th><td>1</td><td>2</td><td>-58.3271</td></tr><tr><th>18</th><td>1</td><td>3</td><td>119.378</td></tr><tr><th>19</th><td>2</td><td>2</td><td>134.45</td></tr><tr><th>20</th><td>1</td><td>1</td><td>-80.7284</td></tr><tr><th>21</th><td>1</td><td>2</td><td>24.0926</td></tr><tr><th>22</th><td>1</td><td>2</td><td>52.9137</td></tr><tr><th>23</th><td>1</td><td>2</td><td>81.2065</td></tr><tr><th>24</th><td>3</td><td>2</td><td>-95.7767</td></tr><tr><th>25</th><td>1</td><td>1</td><td>3.15336</td></tr><tr><th>26</th><td>2</td><td>3</td><td>128.866</td></tr><tr><th>27</th><td>1</td><td>2</td><td>-1.3789</td></tr><tr><th>28</th><td>2</td><td>2</td><td>17.2042</td></tr><tr><th>29</th><td>1</td><td>2</td><td>94.2459</td></tr><tr><th>30</th><td>2</td><td>2</td><td>200.953</td></tr></tbody></table></div>"
      ],
      "text/latex": [
       "\\begin{tabular}{r|ccc}\n",
       "\t& Treatment & Outcome & GrowthRate\\\\\n",
       "\t\\hline\n",
       "\t& Int64 & Int64 & Float64\\\\\n",
       "\t\\hline\n",
       "\t1 & 3 & 1 & 9.51982 \\\\\n",
       "\t2 & 1 & 2 & -139.232 \\\\\n",
       "\t3 & 1 & 1 & -32.8355 \\\\\n",
       "\t4 & 1 & 2 & -48.8165 \\\\\n",
       "\t5 & 3 & 2 & 23.6783 \\\\\n",
       "\t6 & 3 & 2 & 46.2846 \\\\\n",
       "\t7 & 3 & 1 & -2.44624 \\\\\n",
       "\t8 & 3 & 2 & -91.3068 \\\\\n",
       "\t9 & 2 & 3 & 3.70816 \\\\\n",
       "\t10 & 1 & 1 & -23.4349 \\\\\n",
       "\t11 & 1 & 2 & 83.6903 \\\\\n",
       "\t12 & 3 & 3 & 66.194 \\\\\n",
       "\t13 & 2 & 1 & -107.713 \\\\\n",
       "\t14 & 2 & 3 & 108.398 \\\\\n",
       "\t15 & 2 & 1 & 174.156 \\\\\n",
       "\t16 & 2 & 1 & -69.0988 \\\\\n",
       "\t17 & 1 & 2 & -58.3271 \\\\\n",
       "\t18 & 1 & 3 & 119.378 \\\\\n",
       "\t19 & 2 & 2 & 134.45 \\\\\n",
       "\t20 & 1 & 1 & -80.7284 \\\\\n",
       "\t21 & 1 & 2 & 24.0926 \\\\\n",
       "\t22 & 1 & 2 & 52.9137 \\\\\n",
       "\t23 & 1 & 2 & 81.2065 \\\\\n",
       "\t24 & 3 & 2 & -95.7767 \\\\\n",
       "\t25 & 1 & 1 & 3.15336 \\\\\n",
       "\t26 & 2 & 3 & 128.866 \\\\\n",
       "\t27 & 1 & 2 & -1.3789 \\\\\n",
       "\t28 & 2 & 2 & 17.2042 \\\\\n",
       "\t29 & 1 & 2 & 94.2459 \\\\\n",
       "\t30 & 2 & 2 & 200.953 \\\\\n",
       "\\end{tabular}\n"
      ],
      "text/plain": [
       "\u001b[1m30×3 DataFrame\u001b[0m\n",
       "\u001b[1m Row \u001b[0m│\u001b[1m Treatment \u001b[0m\u001b[1m Outcome \u001b[0m\u001b[1m GrowthRate \u001b[0m\n",
       "\u001b[1m     \u001b[0m│\u001b[90m Int64     \u001b[0m\u001b[90m Int64   \u001b[0m\u001b[90m Float64    \u001b[0m\n",
       "─────┼────────────────────────────────\n",
       "   1 │         3        1     9.51982\n",
       "   2 │         1        2  -139.232\n",
       "   3 │         1        1   -32.8355\n",
       "   4 │         1        2   -48.8165\n",
       "   5 │         3        2    23.6783\n",
       "   6 │         3        2    46.2846\n",
       "   7 │         3        1    -2.44624\n",
       "   8 │         3        2   -91.3068\n",
       "   9 │         2        3     3.70816\n",
       "  10 │         1        1   -23.4349\n",
       "  11 │         1        2    83.6903\n",
       "  ⋮  │     ⋮         ⋮         ⋮\n",
       "  21 │         1        2    24.0926\n",
       "  22 │         1        2    52.9137\n",
       "  23 │         1        2    81.2065\n",
       "  24 │         3        2   -95.7767\n",
       "  25 │         1        1     3.15336\n",
       "  26 │         2        3   128.866\n",
       "  27 │         1        2    -1.3789\n",
       "  28 │         2        2    17.2042\n",
       "  29 │         1        2    94.2459\n",
       "  30 │         2        2   200.953\n",
       "\u001b[36m                        9 rows omitted\u001b[0m"
      ]
     },
     "execution_count": 31,
     "metadata": {},
     "output_type": "execute_result"
    }
   ],
   "source": [
    "data"
   ]
  },
  {
   "cell_type": "code",
   "execution_count": 36,
   "id": "551b8815",
   "metadata": {},
   "outputs": [
    {
     "data": {
      "text/plain": [
       "StatsModels.TableRegressionModel{LinearModel{GLM.LmResp{Vector{Float64}}, GLM.DensePredChol{Float64, LinearAlgebra.CholeskyPivoted{Float64, Matrix{Float64}}}}, Matrix{Float64}}\n",
       "\n",
       "Treatment ~ 1 + Outcome + GrowthRate\n",
       "\n",
       "Coefficients:\n",
       "────────────────────────────────────────────────────────────────────────────\n",
       "                  Coef.  Std. Error     t  Pr(>|t|)    Lower 95%   Upper 95%\n",
       "────────────────────────────────────────────────────────────────────────────\n",
       "(Intercept)  1.87234       0.63428   2.95    0.0121   0.490361    3.25432\n",
       "Outcome      0.103013      0.327466  0.31    0.7585  -0.610474    0.8165\n",
       "GrowthRate   0.00191226    0.003012  0.63    0.5374  -0.00465033  0.00847484\n",
       "────────────────────────────────────────────────────────────────────────────"
      ]
     },
     "execution_count": 36,
     "metadata": {},
     "output_type": "execute_result"
    }
   ],
   "source": [
    "#fit training data in linear model\n",
    "tm = lm(@formula(Treatment ~ Outcome + GrowthRate), training_data)"
   ]
  },
  {
   "cell_type": "code",
   "execution_count": 38,
   "id": "1a68f49c",
   "metadata": {},
   "outputs": [
    {
     "data": {
      "text/plain": [
       "12.0"
      ]
     },
     "execution_count": 38,
     "metadata": {},
     "output_type": "execute_result"
    }
   ],
   "source": [
    "dof_residual(tm) #cal residual degrees of freedom"
   ]
  },
  {
   "cell_type": "code",
   "execution_count": 58,
   "id": "46462e25",
   "metadata": {},
   "outputs": [
    {
     "data": {
      "text/plain": [
       "15-element Vector{Float64}:\n",
       " 1.9935565635895665\n",
       " 1.812118133000041\n",
       " 1.9125623631806152\n",
       " 1.9850158013633072\n",
       " 2.1236443577638893\n",
       " 2.1668734370535656\n",
       " 1.9706744066650055\n",
       " 1.9037633789180926\n",
       " 2.188469447270655\n",
       " 1.930538740098602\n",
       " 2.238402700084193\n",
       " 2.307958258115575\n",
       " 1.7693768804843735\n",
       " 2.388663390522228\n",
       " 2.308382141890285"
      ]
     },
     "execution_count": 58,
     "metadata": {},
     "output_type": "execute_result"
    }
   ],
   "source": [
    "predict(tm)"
   ]
  },
  {
   "cell_type": "code",
   "execution_count": 40,
   "id": "55d27000",
   "metadata": {},
   "outputs": [
    {
     "data": {
      "text/plain": [
       "3-element Vector{Float64}:\n",
       " 1.872339112568858\n",
       " 0.10301312640696968\n",
       " 0.0019122557531876703"
      ]
     },
     "execution_count": 40,
     "metadata": {},
     "output_type": "execute_result"
    }
   ],
   "source": [
    "coef(tm) #cal Coef."
   ]
  },
  {
   "cell_type": "code",
   "execution_count": 42,
   "id": "7ca0d58c",
   "metadata": {},
   "outputs": [
    {
     "data": {
      "text/plain": [
       "3×3 Matrix{Float64}:\n",
       "  0.402311     -0.192141      0.000298009\n",
       " -0.192141      0.107234     -0.000189028\n",
       "  0.000298009  -0.000189028   9.07214e-6"
      ]
     },
     "execution_count": 42,
     "metadata": {},
     "output_type": "execute_result"
    }
   ],
   "source": [
    "vcov(tm) #est variance co-variance matrix coef"
   ]
  },
  {
   "cell_type": "code",
   "execution_count": 44,
   "id": "2fd7eeaa",
   "metadata": {},
   "outputs": [
    {
     "data": {
      "text/plain": [
       "10.412167335621064"
      ]
     },
     "execution_count": 44,
     "metadata": {},
     "output_type": "execute_result"
    }
   ],
   "source": [
    "deviance(tm) #deviance of the coef"
   ]
  },
  {
   "cell_type": "code",
   "execution_count": 52,
   "id": "15bead63",
   "metadata": {},
   "outputs": [
    {
     "data": {
      "text/plain": [
       "2.0666666666666664"
      ]
     },
     "execution_count": 52,
     "metadata": {},
     "output_type": "execute_result"
    }
   ],
   "source": [
    "mean(predict(tm))"
   ]
  },
  {
   "cell_type": "code",
   "execution_count": 51,
   "id": "8472889d",
   "metadata": {},
   "outputs": [
    {
     "data": {
      "text/plain": [
       "1.4666666666666666"
      ]
     },
     "execution_count": 51,
     "metadata": {},
     "output_type": "execute_result"
    }
   ],
   "source": [
    "mean(testing_set[:, :Treatment])"
   ]
  },
  {
   "cell_type": "code",
   "execution_count": 53,
   "id": "22efef48",
   "metadata": {},
   "outputs": [
    {
     "data": {
      "text/plain": [
       "2.066666666666667"
      ]
     },
     "execution_count": 53,
     "metadata": {},
     "output_type": "execute_result"
    }
   ],
   "source": [
    "mean(training_data[:, :Treatment])"
   ]
  },
  {
   "cell_type": "code",
   "execution_count": 54,
   "id": "1af019cd",
   "metadata": {},
   "outputs": [
    {
     "data": {
      "text/plain": [
       "1.7666666666666666"
      ]
     },
     "execution_count": 54,
     "metadata": {},
     "output_type": "execute_result"
    }
   ],
   "source": [
    "mean(data[:, :Treatment])"
   ]
  },
  {
   "cell_type": "code",
   "execution_count": 57,
   "id": "58bf2154",
   "metadata": {},
   "outputs": [
    {
     "data": {
      "text/plain": [
       "-71.26666666666667"
      ]
     },
     "execution_count": 57,
     "metadata": {},
     "output_type": "execute_result"
    }
   ],
   "source": [
    "mean(predict(tm)) - mean(testing_set[:, :Treatment]) * 100 / 2"
   ]
  },
  {
   "cell_type": "code",
   "execution_count": 61,
   "id": "3eaeface",
   "metadata": {},
   "outputs": [
    {
     "data": {
      "text/plain": [
       "StatsModels.TableRegressionModel{LinearModel{GLM.LmResp{Vector{Float64}}, GLM.DensePredChol{Float64, LinearAlgebra.CholeskyPivoted{Float64, Matrix{Float64}}}}, Matrix{Float64}}\n",
       "\n",
       "Treatment ~ 1 + Outcome + GrowthRate\n",
       "\n",
       "Coefficients:\n",
       "───────────────────────────────────────────────────────────────────────────────\n",
       "                    Coef.  Std. Error      t  Pr(>|t|)    Lower 95%   Upper 95%\n",
       "───────────────────────────────────────────────────────────────────────────────\n",
       "(Intercept)   1.61038       0.475357    3.39    0.0022   0.635023    2.58573\n",
       "Outcome       0.085106      0.248057    0.34    0.7342  -0.423865    0.594077\n",
       "GrowthRate   -0.000124343   0.0019447  -0.06    0.9495  -0.00411453  0.00386585\n",
       "───────────────────────────────────────────────────────────────────────────────"
      ]
     },
     "execution_count": 61,
     "metadata": {},
     "output_type": "execute_result"
    }
   ],
   "source": [
    "cancermodel = lm(@formula(Treatment ~ Outcome + GrowthRate), data)"
   ]
  },
  {
   "cell_type": "code",
   "execution_count": 62,
   "id": "ac02036d",
   "metadata": {},
   "outputs": [
    {
     "data": {
      "text/plain": [
       "30-element Vector{Float64}:\n",
       " 1.6942983202515345\n",
       " 1.7979006227263996\n",
       " 1.6995649283817564\n",
       " 1.7866580366980083\n",
       " 1.7776437828559575\n",
       " 1.774832833191667\n",
       " 1.6957862212751562\n",
       " 1.7919414355894048\n",
       " 1.8652329208009226\n",
       " 1.6983960232953406\n",
       " 1.7701816779691475\n",
       " 1.8574632195199794\n",
       " 1.708875494119676\n",
       " ⋮\n",
       " 1.7638700798937\n",
       " 1.7055200981085785\n",
       " 1.777592268846721\n",
       " 1.7740085503989689\n",
       " 1.770490522419635\n",
       " 1.7924972400984172\n",
       " 1.6950899471259964\n",
       " 1.8496703653312636\n",
       " 1.7807594844664665\n",
       " 1.7784487986517432\n",
       " 1.7688691630943503\n",
       " 1.7556008586813425"
      ]
     },
     "execution_count": 62,
     "metadata": {},
     "output_type": "execute_result"
    }
   ],
   "source": [
    "predict(cancermodel)"
   ]
  },
  {
   "cell_type": "code",
   "execution_count": 63,
   "id": "5a692b04",
   "metadata": {},
   "outputs": [
    {
     "data": {
      "text/plain": [
       "1.7666666666666666"
      ]
     },
     "execution_count": 63,
     "metadata": {},
     "output_type": "execute_result"
    }
   ],
   "source": [
    "mean(predict(cancermodel))"
   ]
  },
  {
   "cell_type": "code",
   "execution_count": null,
   "id": "d5171188",
   "metadata": {},
   "outputs": [],
   "source": []
  }
 ],
 "metadata": {
  "kernelspec": {
   "display_name": "Julia 1.6.5",
   "language": "julia",
   "name": "julia-1.6"
  },
  "language_info": {
   "file_extension": ".jl",
   "mimetype": "application/julia",
   "name": "julia",
   "version": "1.6.5"
  }
 },
 "nbformat": 4,
 "nbformat_minor": 5
}
